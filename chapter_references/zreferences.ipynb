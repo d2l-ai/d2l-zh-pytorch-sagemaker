{
 "cells": [
  {
   "cell_type": "markdown",
   "id": "ad01b85a",
   "metadata": {
    "origin_pos": 0
   },
   "source": [
    "```eval_rst\n",
    ".. only:: html\n",
    "\n",
    "   参考文献\n",
    "   ==========\n",
    "```\n",
    "\n",
    ":bibliography:`../d2l.bib`\n"
   ]
  }
 ],
 "metadata": {
  "kernelspec": {
   "display_name": "conda_pytorch_p36",
   "name": "conda_pytorch_p36"
  },
  "language_info": {
   "name": "python"
  },
  "required_libs": []
 },
 "nbformat": 4,
 "nbformat_minor": 5
}